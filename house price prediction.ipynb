{
 "cells": [
  {
   "cell_type": "code",
   "execution_count": 2,
   "id": "3ba59723",
   "metadata": {},
   "outputs": [],
   "source": [
    "import numpy as np\n",
    "import pandas as pd\n",
    "import matplotlib.pyplot as plt\n",
    "\n",
    "train = pd.read_csv(\"train.csv\")                          #assigning the datasets\n",
    "test = pd.read_csv(\"test.csv\")\n",
    "\n",
    "train = train.drop([\"Unnamed: 0\", \"Id\"], axis = 1)        #droping unwanted values\n",
    "test = test.drop([\"Unnamed: 0\", \"Id\"], axis = 1)\n",
    "\n",
    "train_data = train.values\n",
    "Y = train_data[:, -1].reshape(train_data.shape[0], 1)     #in the dataset there is a feature named price and thats our \n",
    "X = train_data[:, :-1]                                    #prediction(Y) for that we are seperating X and Y"
   ]
  },
  {
   "cell_type": "code",
   "execution_count": 3,
   "id": "120a5ca4",
   "metadata": {},
   "outputs": [],
   "source": [
    "test_data = test.values\n",
    "Y_test = test_data[:, -1].reshape(test_data.shape[0], 1)  \n",
    "X_test = test_data[:, :-1]"
   ]
  },
  {
   "cell_type": "code",
   "execution_count": 6,
   "id": "091f2dc1",
   "metadata": {},
   "outputs": [
    {
     "data": {
      "text/plain": [
       "(1200, 69)"
      ]
     },
     "execution_count": 6,
     "metadata": {},
     "output_type": "execute_result"
    }
   ],
   "source": [
    "X.shape                                                    "
   ]
  },
  {
   "cell_type": "code",
   "execution_count": 7,
   "id": "bbea5f15",
   "metadata": {},
   "outputs": [
    {
     "data": {
      "text/plain": [
       "(1200, 1)"
      ]
     },
     "execution_count": 7,
     "metadata": {},
     "output_type": "execute_result"
    }
   ],
   "source": [
    "Y.shape"
   ]
  },
  {
   "cell_type": "code",
   "execution_count": 8,
   "id": "11562edd",
   "metadata": {},
   "outputs": [
    {
     "data": {
      "text/plain": [
       "(258, 69)"
      ]
     },
     "execution_count": 8,
     "metadata": {},
     "output_type": "execute_result"
    }
   ],
   "source": [
    "X_test.shape"
   ]
  },
  {
   "cell_type": "code",
   "execution_count": 10,
   "id": "44e3c020",
   "metadata": {},
   "outputs": [
    {
     "data": {
      "text/plain": [
       "(258, 1)"
      ]
     },
     "execution_count": 10,
     "metadata": {},
     "output_type": "execute_result"
    }
   ],
   "source": [
    "Y_test.shape"
   ]
  },
  {
   "cell_type": "code",
   "execution_count": 11,
   "id": "a96c2788",
   "metadata": {},
   "outputs": [],
   "source": [
    "X = np.vstack((np.ones((X.shape[0], )), X.T)).T                 #creating a coloumn of ones before the features of x \n",
    "X_test = np.vstack((np.ones((X_test.shape[0], )), X_test.T)).T  #for theta[0]  "
   ]
  },
  {
   "cell_type": "code",
   "execution_count": 35,
   "id": "912a19d4",
   "metadata": {},
   "outputs": [],
   "source": [
    "def model(X,Y,learnig_rate,iteration):\n",
    "    m = Y.size\n",
    "    theta = np.zeros((X.shape[1],1))\n",
    "    cost_list = []\n",
    "    for i in range(iteration):\n",
    "        y_prediction = np.dot(X,theta)\n",
    "        cost = (np.sum(np.square(y_prediction-Y)))/(2*m)\n",
    "        d_theta = (np.dot(X.T,(y_prediction-Y)))/m\n",
    "        theta = theta-(learning_rate*d_theta)\n",
    "        cost_list.append(cost)\n",
    "        \n",
    "        if(i%500==0):\n",
    "            print(\"cost is: \",cost)\n",
    "            error = (1/X.shape[0])*np.sum(np.abs(y_prediction - Y))\n",
    "            print(\"Train Accuracy :\", (1- error)*100, \"%\")\n",
    "            \n",
    "    return theta,cost_list"
   ]
  },
  {
   "cell_type": "code",
   "execution_count": 36,
   "id": "ca09bdd2",
   "metadata": {},
   "outputs": [
    {
     "name": "stdout",
     "output_type": "stream",
     "text": [
      "cost is:  72.37539364066855\n",
      "Train Accuracy : -1102.4473556109228 %\n",
      "cost is:  0.06267276993777915\n",
      "Train Accuracy : 73.12884112454027 %\n",
      "cost is:  0.02790416831031689\n",
      "Train Accuracy : 82.68046280530315 %\n",
      "cost is:  0.019469499073629118\n",
      "Train Accuracy : 85.69813178199085 %\n",
      "cost is:  0.017251065372144155\n",
      "Train Accuracy : 86.54363416894351 %\n",
      "cost is:  0.016594013345155652\n",
      "Train Accuracy : 86.83705402566845 %\n",
      "cost is:  0.01635527270554829\n",
      "Train Accuracy : 86.96344421322225 %\n",
      "cost is:  0.01623743350685011\n",
      "Train Accuracy : 87.02463073439681 %\n",
      "cost is:  0.016158836087530753\n",
      "Train Accuracy : 87.06539506589878 %\n",
      "cost is:  0.01609580488041544\n",
      "Train Accuracy : 87.09871762170545 %\n",
      "cost is:  0.016040958498450605\n",
      "Train Accuracy : 87.12749691294839 %\n",
      "cost is:  0.01599168313290933\n",
      "Train Accuracy : 87.1532336640854 %\n",
      "cost is:  0.01594682732375345\n",
      "Train Accuracy : 87.17659877681838 %\n",
      "cost is:  0.01590572480924761\n",
      "Train Accuracy : 87.19842685164495 %\n",
      "cost is:  0.01586789631723003\n",
      "Train Accuracy : 87.21764711795068 %\n",
      "cost is:  0.015832954045628303\n",
      "Train Accuracy : 87.23517384598122 %\n",
      "cost is:  0.015800568014785382\n",
      "Train Accuracy : 87.25159557990594 %\n",
      "cost is:  0.015770451891106346\n",
      "Train Accuracy : 87.26735074423459 %\n",
      "cost is:  0.015742355306482894\n",
      "Train Accuracy : 87.28216359752686 %\n",
      "cost is:  0.015716058622488736\n",
      "Train Accuracy : 87.29488817083511 %\n"
     ]
    }
   ],
   "source": [
    "iteration = 10000\n",
    "learning_rate = 0.000000005   \n",
    "theta, cost_list = model(X, Y, learning_rate, iteration)  #let's train our model"
   ]
  },
  {
   "cell_type": "code",
   "execution_count": 46,
   "id": "5012b269",
   "metadata": {},
   "outputs": [
    {
     "data": {
      "image/png": "[encoded data removed]",
      "text/plain": [
       "<Figure size 640x480 with 1 Axes>"
      ]
     },
     "metadata": {},
     "output_type": "display_data"
    }
   ],
   "source": [
    "#let's plot a graph of cost function\n",
    "rng = np.arange(0, iteration)\n",
    "plt.plot(rng, cost_list)\n",
    "plt.show()"
   ]
  },
  {
   "cell_type": "code",
   "execution_count": 37,
   "id": "d82ead30",
   "metadata": {},
   "outputs": [
    {
     "name": "stdout",
     "output_type": "stream",
     "text": [
      "Test Accuracy is : 87.04234120456834 %\n"
     ]
    }
   ],
   "source": [
    "#now,lets test our model with test dataset and find out the accuracy\n",
    "\n",
    "y_prediction = np.dot(X_test, theta)\n",
    "error = (1/X_test.shape[0])*np.sum(np.abs(y_prediction - Y_test))\n",
    "print(\"Test Accuracy is :\", (1- error)*100, \"%\")"
   ]
  },
  {
   "cell_type": "code",
   "execution_count": null,
   "id": "782405da",
   "metadata": {},
   "outputs": [],
   "source": []
  }
 ],
 "metadata": {
  "kernelspec": {
   "display_name": "Python 3 (ipykernel)",
   "language": "python",
   "name": "python3"
  },
  "language_info": {
   "codemirror_mode": {
    "name": "ipython",
    "version": 3
   },
   "file_extension": ".py",
   "mimetype": "text/x-python",
   "name": "python",
   "nbconvert_exporter": "python",
   "pygments_lexer": "ipython3",
   "version": "3.11.0"
  }
 },
 "nbformat": 4,
 "nbformat_minor": 5
}
